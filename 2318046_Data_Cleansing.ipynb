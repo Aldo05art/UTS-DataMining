{
  "nbformat": 4,
  "nbformat_minor": 0,
  "metadata": {
    "colab": {
      "provenance": [],
      "authorship_tag": "ABX9TyOfnnIJu8ffww49UsVVh+vP",
      "include_colab_link": true
    },
    "kernelspec": {
      "name": "python3",
      "display_name": "Python 3"
    },
    "language_info": {
      "name": "python"
    }
  },
  "cells": [
    {
      "cell_type": "markdown",
      "metadata": {
        "id": "view-in-github",
        "colab_type": "text"
      },
      "source": [
        "<a href=\"https://colab.research.google.com/github/Aldo05art/UTS-DataMining/blob/main/2318046_Data_Cleansing.ipynb\" target=\"_parent\"><img src=\"https://colab.research.google.com/assets/colab-badge.svg\" alt=\"Open In Colab\"/></a>"
      ]
    },
    {
      "cell_type": "code",
      "execution_count": null,
      "metadata": {
        "id": "S3Aud-_xZcMn"
      },
      "outputs": [],
      "source": [
        "import pandas as pd\n",
        "import numpy as np\n",
        "import matplotlib.pyplot as plt\n",
        "from datetime import datetime"
      ]
    },
    {
      "cell_type": "code",
      "source": [
        "from google.colab import files\n",
        "uploaded = files.upload()  # jalankan, file kamuu disini yaa\n",
        "# uploaded adalah dict; ambil nama file pertama\n",
        "file_name = next(iter(uploaded))\n",
        "df = pd.read_csv(file_name)"
      ],
      "metadata": {
        "colab": {
          "base_uri": "https://localhost:8080/",
          "height": 73
        },
        "id": "EVW8-HnPca3n",
        "outputId": "50ccfc1a-4fce-4de7-d25d-e9b42c85e21a"
      },
      "execution_count": null,
      "outputs": [
        {
          "output_type": "display_data",
          "data": {
            "text/plain": [
              "<IPython.core.display.HTML object>"
            ],
            "text/html": [
              "\n",
              "     <input type=\"file\" id=\"files-d7502452-38c4-4af4-b0a3-78cdac5f34c5\" name=\"files[]\" multiple disabled\n",
              "        style=\"border:none\" />\n",
              "     <output id=\"result-d7502452-38c4-4af4-b0a3-78cdac5f34c5\">\n",
              "      Upload widget is only available when the cell has been executed in the\n",
              "      current browser session. Please rerun this cell to enable.\n",
              "      </output>\n",
              "      <script>// Copyright 2017 Google LLC\n",
              "//\n",
              "// Licensed under the Apache License, Version 2.0 (the \"License\");\n",
              "// you may not use this file except in compliance with the License.\n",
              "// You may obtain a copy of the License at\n",
              "//\n",
              "//      http://www.apache.org/licenses/LICENSE-2.0\n",
              "//\n",
              "// Unless required by applicable law or agreed to in writing, software\n",
              "// distributed under the License is distributed on an \"AS IS\" BASIS,\n",
              "// WITHOUT WARRANTIES OR CONDITIONS OF ANY KIND, either express or implied.\n",
              "// See the License for the specific language governing permissions and\n",
              "// limitations under the License.\n",
              "\n",
              "/**\n",
              " * @fileoverview Helpers for google.colab Python module.\n",
              " */\n",
              "(function(scope) {\n",
              "function span(text, styleAttributes = {}) {\n",
              "  const element = document.createElement('span');\n",
              "  element.textContent = text;\n",
              "  for (const key of Object.keys(styleAttributes)) {\n",
              "    element.style[key] = styleAttributes[key];\n",
              "  }\n",
              "  return element;\n",
              "}\n",
              "\n",
              "// Max number of bytes which will be uploaded at a time.\n",
              "const MAX_PAYLOAD_SIZE = 100 * 1024;\n",
              "\n",
              "function _uploadFiles(inputId, outputId) {\n",
              "  const steps = uploadFilesStep(inputId, outputId);\n",
              "  const outputElement = document.getElementById(outputId);\n",
              "  // Cache steps on the outputElement to make it available for the next call\n",
              "  // to uploadFilesContinue from Python.\n",
              "  outputElement.steps = steps;\n",
              "\n",
              "  return _uploadFilesContinue(outputId);\n",
              "}\n",
              "\n",
              "// This is roughly an async generator (not supported in the browser yet),\n",
              "// where there are multiple asynchronous steps and the Python side is going\n",
              "// to poll for completion of each step.\n",
              "// This uses a Promise to block the python side on completion of each step,\n",
              "// then passes the result of the previous step as the input to the next step.\n",
              "function _uploadFilesContinue(outputId) {\n",
              "  const outputElement = document.getElementById(outputId);\n",
              "  const steps = outputElement.steps;\n",
              "\n",
              "  const next = steps.next(outputElement.lastPromiseValue);\n",
              "  return Promise.resolve(next.value.promise).then((value) => {\n",
              "    // Cache the last promise value to make it available to the next\n",
              "    // step of the generator.\n",
              "    outputElement.lastPromiseValue = value;\n",
              "    return next.value.response;\n",
              "  });\n",
              "}\n",
              "\n",
              "/**\n",
              " * Generator function which is called between each async step of the upload\n",
              " * process.\n",
              " * @param {string} inputId Element ID of the input file picker element.\n",
              " * @param {string} outputId Element ID of the output display.\n",
              " * @return {!Iterable<!Object>} Iterable of next steps.\n",
              " */\n",
              "function* uploadFilesStep(inputId, outputId) {\n",
              "  const inputElement = document.getElementById(inputId);\n",
              "  inputElement.disabled = false;\n",
              "\n",
              "  const outputElement = document.getElementById(outputId);\n",
              "  outputElement.innerHTML = '';\n",
              "\n",
              "  const pickedPromise = new Promise((resolve) => {\n",
              "    inputElement.addEventListener('change', (e) => {\n",
              "      resolve(e.target.files);\n",
              "    });\n",
              "  });\n",
              "\n",
              "  const cancel = document.createElement('button');\n",
              "  inputElement.parentElement.appendChild(cancel);\n",
              "  cancel.textContent = 'Cancel upload';\n",
              "  const cancelPromise = new Promise((resolve) => {\n",
              "    cancel.onclick = () => {\n",
              "      resolve(null);\n",
              "    };\n",
              "  });\n",
              "\n",
              "  // Wait for the user to pick the files.\n",
              "  const files = yield {\n",
              "    promise: Promise.race([pickedPromise, cancelPromise]),\n",
              "    response: {\n",
              "      action: 'starting',\n",
              "    }\n",
              "  };\n",
              "\n",
              "  cancel.remove();\n",
              "\n",
              "  // Disable the input element since further picks are not allowed.\n",
              "  inputElement.disabled = true;\n",
              "\n",
              "  if (!files) {\n",
              "    return {\n",
              "      response: {\n",
              "        action: 'complete',\n",
              "      }\n",
              "    };\n",
              "  }\n",
              "\n",
              "  for (const file of files) {\n",
              "    const li = document.createElement('li');\n",
              "    li.append(span(file.name, {fontWeight: 'bold'}));\n",
              "    li.append(span(\n",
              "        `(${file.type || 'n/a'}) - ${file.size} bytes, ` +\n",
              "        `last modified: ${\n",
              "            file.lastModifiedDate ? file.lastModifiedDate.toLocaleDateString() :\n",
              "                                    'n/a'} - `));\n",
              "    const percent = span('0% done');\n",
              "    li.appendChild(percent);\n",
              "\n",
              "    outputElement.appendChild(li);\n",
              "\n",
              "    const fileDataPromise = new Promise((resolve) => {\n",
              "      const reader = new FileReader();\n",
              "      reader.onload = (e) => {\n",
              "        resolve(e.target.result);\n",
              "      };\n",
              "      reader.readAsArrayBuffer(file);\n",
              "    });\n",
              "    // Wait for the data to be ready.\n",
              "    let fileData = yield {\n",
              "      promise: fileDataPromise,\n",
              "      response: {\n",
              "        action: 'continue',\n",
              "      }\n",
              "    };\n",
              "\n",
              "    // Use a chunked sending to avoid message size limits. See b/62115660.\n",
              "    let position = 0;\n",
              "    do {\n",
              "      const length = Math.min(fileData.byteLength - position, MAX_PAYLOAD_SIZE);\n",
              "      const chunk = new Uint8Array(fileData, position, length);\n",
              "      position += length;\n",
              "\n",
              "      const base64 = btoa(String.fromCharCode.apply(null, chunk));\n",
              "      yield {\n",
              "        response: {\n",
              "          action: 'append',\n",
              "          file: file.name,\n",
              "          data: base64,\n",
              "        },\n",
              "      };\n",
              "\n",
              "      let percentDone = fileData.byteLength === 0 ?\n",
              "          100 :\n",
              "          Math.round((position / fileData.byteLength) * 100);\n",
              "      percent.textContent = `${percentDone}% done`;\n",
              "\n",
              "    } while (position < fileData.byteLength);\n",
              "  }\n",
              "\n",
              "  // All done.\n",
              "  yield {\n",
              "    response: {\n",
              "      action: 'complete',\n",
              "    }\n",
              "  };\n",
              "}\n",
              "\n",
              "scope.google = scope.google || {};\n",
              "scope.google.colab = scope.google.colab || {};\n",
              "scope.google.colab._files = {\n",
              "  _uploadFiles,\n",
              "  _uploadFilesContinue,\n",
              "};\n",
              "})(self);\n",
              "</script> "
            ]
          },
          "metadata": {}
        },
        {
          "output_type": "stream",
          "name": "stdout",
          "text": [
            "Saving covid_19_indonesia_time_series_all.csv to covid_19_indonesia_time_series_all (1).csv\n"
          ]
        }
      ]
    },
    {
      "cell_type": "code",
      "source": [
        "df_raw = pd.read_csv(file_name, low_memory=False)\n",
        "print(\"Loaded:\", file_name)\n",
        "print(\"Shape raw:\", df_raw.shape)\n",
        "display(df_raw.head())"
      ],
      "metadata": {
        "colab": {
          "base_uri": "https://localhost:8080/",
          "height": 394
        },
        "id": "XKgQxfAxc5No",
        "outputId": "953d4fc5-6f12-47d1-bfe9-f8abed5600df"
      },
      "execution_count": null,
      "outputs": [
        {
          "output_type": "stream",
          "name": "stdout",
          "text": [
            "Loaded: covid_19_indonesia_time_series_all (1).csv\n",
            "Shape raw: (31822, 38)\n"
          ]
        },
        {
          "output_type": "display_data",
          "data": {
            "text/plain": [
              "       Date Location ISO Code     Location  New Cases  New Deaths  \\\n",
              "0  3/1/2020             ID-JK  DKI Jakarta          2           0   \n",
              "1  3/2/2020             ID-JK  DKI Jakarta          2           0   \n",
              "2  3/2/2020               IDN    Indonesia          2           0   \n",
              "3  3/2/2020             ID-RI         Riau          1           0   \n",
              "4  3/3/2020             ID-JK  DKI Jakarta          2           0   \n",
              "\n",
              "   New Recovered  New Active Cases  Total Cases  Total Deaths  \\\n",
              "0              0                 2           39            20   \n",
              "1              0                 2           41            20   \n",
              "2              0                 2            2             0   \n",
              "3              0                 1            1             0   \n",
              "4              0                 2           43            20   \n",
              "\n",
              "   Total Recovered  ...  Latitude New Cases per Million  \\\n",
              "0               75  ... -6.204699                  0.18   \n",
              "1               75  ... -6.204699                  0.18   \n",
              "2                0  ... -0.789275                  0.01   \n",
              "3                1  ...  0.511648                  0.16   \n",
              "4               75  ... -6.204699                  0.18   \n",
              "\n",
              "   Total Cases per Million New Deaths per Million Total Deaths per Million  \\\n",
              "0                     3.60                    0.0                     1.84   \n",
              "1                     3.78                    0.0                     1.84   \n",
              "2                     0.01                    0.0                     0.00   \n",
              "3                     0.16                    0.0                     0.00   \n",
              "4                     3.96                    0.0                     1.84   \n",
              "\n",
              "  Total Deaths per 100rb Case Fatality Rate Case Recovered Rate  \\\n",
              "0                   0.18             51.28%             192.31%   \n",
              "1                   0.18             48.78%             182.93%   \n",
              "2                   0.00              0.00%               0.00%   \n",
              "3                   0.00              0.00%             100.00%   \n",
              "4                   0.18             46.51%             174.42%   \n",
              "\n",
              "  Growth Factor of New Cases  Growth Factor of New Deaths  \n",
              "0                        NaN                          NaN  \n",
              "1                        1.0                          1.0  \n",
              "2                        NaN                          NaN  \n",
              "3                        NaN                          NaN  \n",
              "4                        1.0                          1.0  \n",
              "\n",
              "[5 rows x 38 columns]"
            ],
            "text/html": [
              "\n",
              "  <div id=\"df-ed7b6b5e-4d5b-4ea0-ad31-d7dc83499b1a\" class=\"colab-df-container\">\n",
              "    <div>\n",
              "<style scoped>\n",
              "    .dataframe tbody tr th:only-of-type {\n",
              "        vertical-align: middle;\n",
              "    }\n",
              "\n",
              "    .dataframe tbody tr th {\n",
              "        vertical-align: top;\n",
              "    }\n",
              "\n",
              "    .dataframe thead th {\n",
              "        text-align: right;\n",
              "    }\n",
              "</style>\n",
              "<table border=\"1\" class=\"dataframe\">\n",
              "  <thead>\n",
              "    <tr style=\"text-align: right;\">\n",
              "      <th></th>\n",
              "      <th>Date</th>\n",
              "      <th>Location ISO Code</th>\n",
              "      <th>Location</th>\n",
              "      <th>New Cases</th>\n",
              "      <th>New Deaths</th>\n",
              "      <th>New Recovered</th>\n",
              "      <th>New Active Cases</th>\n",
              "      <th>Total Cases</th>\n",
              "      <th>Total Deaths</th>\n",
              "      <th>Total Recovered</th>\n",
              "      <th>...</th>\n",
              "      <th>Latitude</th>\n",
              "      <th>New Cases per Million</th>\n",
              "      <th>Total Cases per Million</th>\n",
              "      <th>New Deaths per Million</th>\n",
              "      <th>Total Deaths per Million</th>\n",
              "      <th>Total Deaths per 100rb</th>\n",
              "      <th>Case Fatality Rate</th>\n",
              "      <th>Case Recovered Rate</th>\n",
              "      <th>Growth Factor of New Cases</th>\n",
              "      <th>Growth Factor of New Deaths</th>\n",
              "    </tr>\n",
              "  </thead>\n",
              "  <tbody>\n",
              "    <tr>\n",
              "      <th>0</th>\n",
              "      <td>3/1/2020</td>\n",
              "      <td>ID-JK</td>\n",
              "      <td>DKI Jakarta</td>\n",
              "      <td>2</td>\n",
              "      <td>0</td>\n",
              "      <td>0</td>\n",
              "      <td>2</td>\n",
              "      <td>39</td>\n",
              "      <td>20</td>\n",
              "      <td>75</td>\n",
              "      <td>...</td>\n",
              "      <td>-6.204699</td>\n",
              "      <td>0.18</td>\n",
              "      <td>3.60</td>\n",
              "      <td>0.0</td>\n",
              "      <td>1.84</td>\n",
              "      <td>0.18</td>\n",
              "      <td>51.28%</td>\n",
              "      <td>192.31%</td>\n",
              "      <td>NaN</td>\n",
              "      <td>NaN</td>\n",
              "    </tr>\n",
              "    <tr>\n",
              "      <th>1</th>\n",
              "      <td>3/2/2020</td>\n",
              "      <td>ID-JK</td>\n",
              "      <td>DKI Jakarta</td>\n",
              "      <td>2</td>\n",
              "      <td>0</td>\n",
              "      <td>0</td>\n",
              "      <td>2</td>\n",
              "      <td>41</td>\n",
              "      <td>20</td>\n",
              "      <td>75</td>\n",
              "      <td>...</td>\n",
              "      <td>-6.204699</td>\n",
              "      <td>0.18</td>\n",
              "      <td>3.78</td>\n",
              "      <td>0.0</td>\n",
              "      <td>1.84</td>\n",
              "      <td>0.18</td>\n",
              "      <td>48.78%</td>\n",
              "      <td>182.93%</td>\n",
              "      <td>1.0</td>\n",
              "      <td>1.0</td>\n",
              "    </tr>\n",
              "    <tr>\n",
              "      <th>2</th>\n",
              "      <td>3/2/2020</td>\n",
              "      <td>IDN</td>\n",
              "      <td>Indonesia</td>\n",
              "      <td>2</td>\n",
              "      <td>0</td>\n",
              "      <td>0</td>\n",
              "      <td>2</td>\n",
              "      <td>2</td>\n",
              "      <td>0</td>\n",
              "      <td>0</td>\n",
              "      <td>...</td>\n",
              "      <td>-0.789275</td>\n",
              "      <td>0.01</td>\n",
              "      <td>0.01</td>\n",
              "      <td>0.0</td>\n",
              "      <td>0.00</td>\n",
              "      <td>0.00</td>\n",
              "      <td>0.00%</td>\n",
              "      <td>0.00%</td>\n",
              "      <td>NaN</td>\n",
              "      <td>NaN</td>\n",
              "    </tr>\n",
              "    <tr>\n",
              "      <th>3</th>\n",
              "      <td>3/2/2020</td>\n",
              "      <td>ID-RI</td>\n",
              "      <td>Riau</td>\n",
              "      <td>1</td>\n",
              "      <td>0</td>\n",
              "      <td>0</td>\n",
              "      <td>1</td>\n",
              "      <td>1</td>\n",
              "      <td>0</td>\n",
              "      <td>1</td>\n",
              "      <td>...</td>\n",
              "      <td>0.511648</td>\n",
              "      <td>0.16</td>\n",
              "      <td>0.16</td>\n",
              "      <td>0.0</td>\n",
              "      <td>0.00</td>\n",
              "      <td>0.00</td>\n",
              "      <td>0.00%</td>\n",
              "      <td>100.00%</td>\n",
              "      <td>NaN</td>\n",
              "      <td>NaN</td>\n",
              "    </tr>\n",
              "    <tr>\n",
              "      <th>4</th>\n",
              "      <td>3/3/2020</td>\n",
              "      <td>ID-JK</td>\n",
              "      <td>DKI Jakarta</td>\n",
              "      <td>2</td>\n",
              "      <td>0</td>\n",
              "      <td>0</td>\n",
              "      <td>2</td>\n",
              "      <td>43</td>\n",
              "      <td>20</td>\n",
              "      <td>75</td>\n",
              "      <td>...</td>\n",
              "      <td>-6.204699</td>\n",
              "      <td>0.18</td>\n",
              "      <td>3.96</td>\n",
              "      <td>0.0</td>\n",
              "      <td>1.84</td>\n",
              "      <td>0.18</td>\n",
              "      <td>46.51%</td>\n",
              "      <td>174.42%</td>\n",
              "      <td>1.0</td>\n",
              "      <td>1.0</td>\n",
              "    </tr>\n",
              "  </tbody>\n",
              "</table>\n",
              "<p>5 rows × 38 columns</p>\n",
              "</div>\n",
              "    <div class=\"colab-df-buttons\">\n",
              "\n",
              "  <div class=\"colab-df-container\">\n",
              "    <button class=\"colab-df-convert\" onclick=\"convertToInteractive('df-ed7b6b5e-4d5b-4ea0-ad31-d7dc83499b1a')\"\n",
              "            title=\"Convert this dataframe to an interactive table.\"\n",
              "            style=\"display:none;\">\n",
              "\n",
              "  <svg xmlns=\"http://www.w3.org/2000/svg\" height=\"24px\" viewBox=\"0 -960 960 960\">\n",
              "    <path d=\"M120-120v-720h720v720H120Zm60-500h600v-160H180v160Zm220 220h160v-160H400v160Zm0 220h160v-160H400v160ZM180-400h160v-160H180v160Zm440 0h160v-160H620v160ZM180-180h160v-160H180v160Zm440 0h160v-160H620v160Z\"/>\n",
              "  </svg>\n",
              "    </button>\n",
              "\n",
              "  <style>\n",
              "    .colab-df-container {\n",
              "      display:flex;\n",
              "      gap: 12px;\n",
              "    }\n",
              "\n",
              "    .colab-df-convert {\n",
              "      background-color: #E8F0FE;\n",
              "      border: none;\n",
              "      border-radius: 50%;\n",
              "      cursor: pointer;\n",
              "      display: none;\n",
              "      fill: #1967D2;\n",
              "      height: 32px;\n",
              "      padding: 0 0 0 0;\n",
              "      width: 32px;\n",
              "    }\n",
              "\n",
              "    .colab-df-convert:hover {\n",
              "      background-color: #E2EBFA;\n",
              "      box-shadow: 0px 1px 2px rgba(60, 64, 67, 0.3), 0px 1px 3px 1px rgba(60, 64, 67, 0.15);\n",
              "      fill: #174EA6;\n",
              "    }\n",
              "\n",
              "    .colab-df-buttons div {\n",
              "      margin-bottom: 4px;\n",
              "    }\n",
              "\n",
              "    [theme=dark] .colab-df-convert {\n",
              "      background-color: #3B4455;\n",
              "      fill: #D2E3FC;\n",
              "    }\n",
              "\n",
              "    [theme=dark] .colab-df-convert:hover {\n",
              "      background-color: #434B5C;\n",
              "      box-shadow: 0px 1px 3px 1px rgba(0, 0, 0, 0.15);\n",
              "      filter: drop-shadow(0px 1px 2px rgba(0, 0, 0, 0.3));\n",
              "      fill: #FFFFFF;\n",
              "    }\n",
              "  </style>\n",
              "\n",
              "    <script>\n",
              "      const buttonEl =\n",
              "        document.querySelector('#df-ed7b6b5e-4d5b-4ea0-ad31-d7dc83499b1a button.colab-df-convert');\n",
              "      buttonEl.style.display =\n",
              "        google.colab.kernel.accessAllowed ? 'block' : 'none';\n",
              "\n",
              "      async function convertToInteractive(key) {\n",
              "        const element = document.querySelector('#df-ed7b6b5e-4d5b-4ea0-ad31-d7dc83499b1a');\n",
              "        const dataTable =\n",
              "          await google.colab.kernel.invokeFunction('convertToInteractive',\n",
              "                                                    [key], {});\n",
              "        if (!dataTable) return;\n",
              "\n",
              "        const docLinkHtml = 'Like what you see? Visit the ' +\n",
              "          '<a target=\"_blank\" href=https://colab.research.google.com/notebooks/data_table.ipynb>data table notebook</a>'\n",
              "          + ' to learn more about interactive tables.';\n",
              "        element.innerHTML = '';\n",
              "        dataTable['output_type'] = 'display_data';\n",
              "        await google.colab.output.renderOutput(dataTable, element);\n",
              "        const docLink = document.createElement('div');\n",
              "        docLink.innerHTML = docLinkHtml;\n",
              "        element.appendChild(docLink);\n",
              "      }\n",
              "    </script>\n",
              "  </div>\n",
              "\n",
              "\n",
              "    <div id=\"df-5c14bf8f-0e9f-43ce-b221-3be2e76fd75a\">\n",
              "      <button class=\"colab-df-quickchart\" onclick=\"quickchart('df-5c14bf8f-0e9f-43ce-b221-3be2e76fd75a')\"\n",
              "                title=\"Suggest charts\"\n",
              "                style=\"display:none;\">\n",
              "\n",
              "<svg xmlns=\"http://www.w3.org/2000/svg\" height=\"24px\"viewBox=\"0 0 24 24\"\n",
              "     width=\"24px\">\n",
              "    <g>\n",
              "        <path d=\"M19 3H5c-1.1 0-2 .9-2 2v14c0 1.1.9 2 2 2h14c1.1 0 2-.9 2-2V5c0-1.1-.9-2-2-2zM9 17H7v-7h2v7zm4 0h-2V7h2v10zm4 0h-2v-4h2v4z\"/>\n",
              "    </g>\n",
              "</svg>\n",
              "      </button>\n",
              "\n",
              "<style>\n",
              "  .colab-df-quickchart {\n",
              "      --bg-color: #E8F0FE;\n",
              "      --fill-color: #1967D2;\n",
              "      --hover-bg-color: #E2EBFA;\n",
              "      --hover-fill-color: #174EA6;\n",
              "      --disabled-fill-color: #AAA;\n",
              "      --disabled-bg-color: #DDD;\n",
              "  }\n",
              "\n",
              "  [theme=dark] .colab-df-quickchart {\n",
              "      --bg-color: #3B4455;\n",
              "      --fill-color: #D2E3FC;\n",
              "      --hover-bg-color: #434B5C;\n",
              "      --hover-fill-color: #FFFFFF;\n",
              "      --disabled-bg-color: #3B4455;\n",
              "      --disabled-fill-color: #666;\n",
              "  }\n",
              "\n",
              "  .colab-df-quickchart {\n",
              "    background-color: var(--bg-color);\n",
              "    border: none;\n",
              "    border-radius: 50%;\n",
              "    cursor: pointer;\n",
              "    display: none;\n",
              "    fill: var(--fill-color);\n",
              "    height: 32px;\n",
              "    padding: 0;\n",
              "    width: 32px;\n",
              "  }\n",
              "\n",
              "  .colab-df-quickchart:hover {\n",
              "    background-color: var(--hover-bg-color);\n",
              "    box-shadow: 0 1px 2px rgba(60, 64, 67, 0.3), 0 1px 3px 1px rgba(60, 64, 67, 0.15);\n",
              "    fill: var(--button-hover-fill-color);\n",
              "  }\n",
              "\n",
              "  .colab-df-quickchart-complete:disabled,\n",
              "  .colab-df-quickchart-complete:disabled:hover {\n",
              "    background-color: var(--disabled-bg-color);\n",
              "    fill: var(--disabled-fill-color);\n",
              "    box-shadow: none;\n",
              "  }\n",
              "\n",
              "  .colab-df-spinner {\n",
              "    border: 2px solid var(--fill-color);\n",
              "    border-color: transparent;\n",
              "    border-bottom-color: var(--fill-color);\n",
              "    animation:\n",
              "      spin 1s steps(1) infinite;\n",
              "  }\n",
              "\n",
              "  @keyframes spin {\n",
              "    0% {\n",
              "      border-color: transparent;\n",
              "      border-bottom-color: var(--fill-color);\n",
              "      border-left-color: var(--fill-color);\n",
              "    }\n",
              "    20% {\n",
              "      border-color: transparent;\n",
              "      border-left-color: var(--fill-color);\n",
              "      border-top-color: var(--fill-color);\n",
              "    }\n",
              "    30% {\n",
              "      border-color: transparent;\n",
              "      border-left-color: var(--fill-color);\n",
              "      border-top-color: var(--fill-color);\n",
              "      border-right-color: var(--fill-color);\n",
              "    }\n",
              "    40% {\n",
              "      border-color: transparent;\n",
              "      border-right-color: var(--fill-color);\n",
              "      border-top-color: var(--fill-color);\n",
              "    }\n",
              "    60% {\n",
              "      border-color: transparent;\n",
              "      border-right-color: var(--fill-color);\n",
              "    }\n",
              "    80% {\n",
              "      border-color: transparent;\n",
              "      border-right-color: var(--fill-color);\n",
              "      border-bottom-color: var(--fill-color);\n",
              "    }\n",
              "    90% {\n",
              "      border-color: transparent;\n",
              "      border-bottom-color: var(--fill-color);\n",
              "    }\n",
              "  }\n",
              "</style>\n",
              "\n",
              "      <script>\n",
              "        async function quickchart(key) {\n",
              "          const quickchartButtonEl =\n",
              "            document.querySelector('#' + key + ' button');\n",
              "          quickchartButtonEl.disabled = true;  // To prevent multiple clicks.\n",
              "          quickchartButtonEl.classList.add('colab-df-spinner');\n",
              "          try {\n",
              "            const charts = await google.colab.kernel.invokeFunction(\n",
              "                'suggestCharts', [key], {});\n",
              "          } catch (error) {\n",
              "            console.error('Error during call to suggestCharts:', error);\n",
              "          }\n",
              "          quickchartButtonEl.classList.remove('colab-df-spinner');\n",
              "          quickchartButtonEl.classList.add('colab-df-quickchart-complete');\n",
              "        }\n",
              "        (() => {\n",
              "          let quickchartButtonEl =\n",
              "            document.querySelector('#df-5c14bf8f-0e9f-43ce-b221-3be2e76fd75a button');\n",
              "          quickchartButtonEl.style.display =\n",
              "            google.colab.kernel.accessAllowed ? 'block' : 'none';\n",
              "        })();\n",
              "      </script>\n",
              "    </div>\n",
              "\n",
              "    </div>\n",
              "  </div>\n"
            ],
            "application/vnd.google.colaboratory.intrinsic+json": {
              "type": "dataframe"
            }
          },
          "metadata": {}
        }
      ]
    },
    {
      "cell_type": "code",
      "source": [
        "df = df_raw.copy()\n",
        "df.columns = [c.strip().lower().replace(\" \", \"_\") for c in df.columns]\n",
        "print(\"Columns normalized:\")\n",
        "print(df.columns.tolist())"
      ],
      "metadata": {
        "colab": {
          "base_uri": "https://localhost:8080/"
        },
        "id": "nF6ZIkP7dET-",
        "outputId": "69382457-ec09-4700-eda6-d1bc938f0be1"
      },
      "execution_count": null,
      "outputs": [
        {
          "output_type": "stream",
          "name": "stdout",
          "text": [
            "Columns normalized:\n",
            "['date', 'location_iso_code', 'location', 'new_cases', 'new_deaths', 'new_recovered', 'new_active_cases', 'total_cases', 'total_deaths', 'total_recovered', 'total_active_cases', 'location_level', 'city_or_regency', 'province', 'country', 'continent', 'island', 'time_zone', 'special_status', 'total_regencies', 'total_cities', 'total_districts', 'total_urban_villages', 'total_rural_villages', 'area_(km2)', 'population', 'population_density', 'longitude', 'latitude', 'new_cases_per_million', 'total_cases_per_million', 'new_deaths_per_million', 'total_deaths_per_million', 'total_deaths_per_100rb', 'case_fatality_rate', 'case_recovered_rate', 'growth_factor_of_new_cases', 'growth_factor_of_new_deaths']\n"
          ]
        }
      ]
    },
    {
      "cell_type": "code",
      "source": [
        "col_map = {}\n",
        "# mapping examples; adjust keys according to actual columns\n",
        "if 'date' in df.columns:\n",
        "    col_map['date'] = 'date'\n",
        "elif 'tanggal' in df.columns:\n",
        "    col_map['tanggal'] = 'date'\n",
        "if 'location' in df.columns:\n",
        "    col_map['location'] = 'location'\n",
        "elif 'provinsi' in df.columns:\n",
        "    col_map['provinsi'] = 'location'\n",
        "# cumulative / new case columns variations\n",
        "for name in ['new_cases', 'new_case', 'kasus_baru', 'daily_cases']:\n",
        "    if name in df.columns and 'new_cases' not in col_map.values():\n",
        "        col_map[name] = 'new_cases'\n",
        "for name in ['total_cases', 'cum_cases', 'total_kasus']:\n",
        "    if name in df.columns and 'total_cases' not in col_map.values():\n",
        "        col_map[name] = 'total_cases'\n",
        "for name in ['new_deaths', 'new_death', 'daily_deaths']:\n",
        "    if name in df.columns and 'new_deaths' not in col_map.values():\n",
        "        col_map[name] = 'new_deaths'\n",
        "for name in ['total_deaths', 'cum_deaths']:\n",
        "    if name in df.columns and 'total_deaths' not in col_map.values():\n",
        "        col_map[name] = 'total_deaths'\n",
        "for name in ['new_recovered','new_recovery']:\n",
        "    if name in df.columns and 'new_recovered' not in col_map.values():\n",
        "        col_map[name] = 'new_recovered'\n",
        "for name in ['total_recovered','cum_recovered']:\n",
        "    if name in df.columns and 'total_recovered' not in col_map.values():\n",
        "        col_map[name] = 'total_recovered'\n",
        "# Population\n",
        "if 'population' in df.columns:\n",
        "    col_map['population'] = 'population'\n",
        "\n",
        "# Apply renaming for existing keys\n",
        "rename_map = {k: v for k, v in col_map.items() if k in df.columns}\n",
        "if rename_map:\n",
        "    df = df.rename(columns=rename_map)\n",
        "    print(\"Applied rename map:\", rename_map)"
      ],
      "metadata": {
        "colab": {
          "base_uri": "https://localhost:8080/"
        },
        "id": "kxtg_CCedPGt",
        "outputId": "05609f1b-eedd-4942-9c6c-d90ab19b2a87"
      },
      "execution_count": null,
      "outputs": [
        {
          "output_type": "stream",
          "name": "stdout",
          "text": [
            "Applied rename map: {'date': 'date', 'location': 'location', 'new_cases': 'new_cases', 'total_cases': 'total_cases', 'new_deaths': 'new_deaths', 'total_deaths': 'total_deaths', 'new_recovered': 'new_recovered', 'total_recovered': 'total_recovered', 'population': 'population'}\n"
          ]
        }
      ]
    },
    {
      "cell_type": "code",
      "source": [
        "df['date'] = pd.to_datetime(df['date'], errors='coerce', dayfirst=False, infer_datetime_format=True)\n",
        "# If many NaT, try dayfirst True\n",
        "if df['date'].isna().mean() > 0.2:\n",
        "    df['date'] = pd.to_datetime(df_raw.get('date', df_raw.iloc[:,0]), errors='coerce', dayfirst=True, infer_datetime_format=True)\n",
        "\n",
        "print(\"Dates parsed. NaT count:\", df['date'].isna().sum())\n",
        "# Drop rows without date or location — flag first\n",
        "df = df[~df['date'].isna()].copy()\n",
        "df = df.dropna(subset=['location'])  # if location missing, drop (or you can flag instead)\n",
        "df['location'] = df['location'].astype(str).str.strip()\n",
        "\n",
        "# Sort by location & date\n",
        "df = df.sort_values(['location', 'date']).reset_index(drop=True)"
      ],
      "metadata": {
        "colab": {
          "base_uri": "https://localhost:8080/"
        },
        "id": "YH6hPMsodWMT",
        "outputId": "a72e0e81-9d59-4475-df4a-2f235ff4a885"
      },
      "execution_count": null,
      "outputs": [
        {
          "output_type": "stream",
          "name": "stdout",
          "text": [
            "Dates parsed. NaT count: 0\n"
          ]
        },
        {
          "output_type": "stream",
          "name": "stderr",
          "text": [
            "/tmp/ipython-input-3087702119.py:1: UserWarning: The argument 'infer_datetime_format' is deprecated and will be removed in a future version. A strict version of it is now the default, see https://pandas.pydata.org/pdeps/0004-consistent-to-datetime-parsing.html. You can safely remove this argument.\n",
            "  df['date'] = pd.to_datetime(df['date'], errors='coerce', dayfirst=False, infer_datetime_format=True)\n"
          ]
        }
      ]
    },
    {
      "cell_type": "code",
      "source": [
        "def to_numeric_col(col):\n",
        "    # Remove commas, spaces, and coercion\n",
        "    return pd.to_numeric(df[col].astype(str).str.replace(r'[,\\s]', '', regex=True).replace({'':np.nan,'-':np.nan}), errors='coerce')\n",
        "\n",
        "num_cols_candidates = ['new_cases','total_cases','new_deaths','total_deaths','new_recovered','total_recovered','population']\n",
        "for c in num_cols_candidates:\n",
        "    if c in df.columns:\n",
        "        df[c] = to_numeric_col(c)\n",
        "\n",
        "# Show missing and types\n",
        "print(\"\\nAfter numeric coercion:\")\n",
        "display(df.info())\n",
        "print(df[num_cols_candidates].isnull().sum())"
      ],
      "metadata": {
        "colab": {
          "base_uri": "https://localhost:8080/",
          "height": 989
        },
        "id": "pDHrdJoXdckZ",
        "outputId": "f3d0c162-072e-4739-fedf-4afe2c53b1cb"
      },
      "execution_count": null,
      "outputs": [
        {
          "output_type": "stream",
          "name": "stdout",
          "text": [
            "\n",
            "After numeric coercion:\n",
            "<class 'pandas.core.frame.DataFrame'>\n",
            "RangeIndex: 31822 entries, 0 to 31821\n",
            "Data columns (total 38 columns):\n",
            " #   Column                       Non-Null Count  Dtype         \n",
            "---  ------                       --------------  -----         \n",
            " 0   date                         31822 non-null  datetime64[ns]\n",
            " 1   location_iso_code            31822 non-null  object        \n",
            " 2   location                     31822 non-null  object        \n",
            " 3   new_cases                    31822 non-null  int64         \n",
            " 4   new_deaths                   31822 non-null  int64         \n",
            " 5   new_recovered                31822 non-null  int64         \n",
            " 6   new_active_cases             31822 non-null  int64         \n",
            " 7   total_cases                  31822 non-null  int64         \n",
            " 8   total_deaths                 31822 non-null  int64         \n",
            " 9   total_recovered              31822 non-null  int64         \n",
            " 10  total_active_cases           31822 non-null  int64         \n",
            " 11  location_level               31822 non-null  object        \n",
            " 12  city_or_regency              0 non-null      float64       \n",
            " 13  province                     30893 non-null  object        \n",
            " 14  country                      31822 non-null  object        \n",
            " 15  continent                    31822 non-null  object        \n",
            " 16  island                       30893 non-null  object        \n",
            " 17  time_zone                    30893 non-null  object        \n",
            " 18  special_status               4558 non-null   object        \n",
            " 19  total_regencies              31822 non-null  int64         \n",
            " 20  total_cities                 30921 non-null  float64       \n",
            " 21  total_districts              31822 non-null  int64         \n",
            " 22  total_urban_villages         30918 non-null  float64       \n",
            " 23  total_rural_villages         30893 non-null  float64       \n",
            " 24  area_(km2)                   31822 non-null  int64         \n",
            " 25  population                   31822 non-null  int64         \n",
            " 26  population_density           31822 non-null  float64       \n",
            " 27  longitude                    31822 non-null  float64       \n",
            " 28  latitude                     31822 non-null  float64       \n",
            " 29  new_cases_per_million        31822 non-null  float64       \n",
            " 30  total_cases_per_million      31822 non-null  float64       \n",
            " 31  new_deaths_per_million       31822 non-null  float64       \n",
            " 32  total_deaths_per_million     31822 non-null  float64       \n",
            " 33  total_deaths_per_100rb       31822 non-null  float64       \n",
            " 34  case_fatality_rate           31822 non-null  object        \n",
            " 35  case_recovered_rate          31822 non-null  object        \n",
            " 36  growth_factor_of_new_cases   29883 non-null  float64       \n",
            " 37  growth_factor_of_new_deaths  28375 non-null  float64       \n",
            "dtypes: datetime64[ns](1), float64(14), int64(12), object(11)\n",
            "memory usage: 9.2+ MB\n"
          ]
        },
        {
          "output_type": "display_data",
          "data": {
            "text/plain": [
              "None"
            ]
          },
          "metadata": {}
        },
        {
          "output_type": "stream",
          "name": "stdout",
          "text": [
            "new_cases          0\n",
            "total_cases        0\n",
            "new_deaths         0\n",
            "total_deaths       0\n",
            "new_recovered      0\n",
            "total_recovered    0\n",
            "population         0\n",
            "dtype: int64\n"
          ]
        }
      ]
    },
    {
      "cell_type": "code",
      "source": [
        "if 'new_cases' in df.columns:\n",
        "    neg_count = (df['new_cases'] < 0).sum()\n",
        "    if neg_count > 0:\n",
        "        print(\"Found negative new_cases:\", neg_count)\n",
        "        df.loc[df['new_cases'] < 0, 'new_cases'] = np.nan"
      ],
      "metadata": {
        "id": "xeqXeewPdkrl"
      },
      "execution_count": null,
      "outputs": []
    },
    {
      "cell_type": "code",
      "source": [
        "dup_full = df.duplicated().sum()\n",
        "dup_loc_date = df.duplicated(subset=['location','date']).sum()\n",
        "print(f\"Exact duplicate rows: {dup_full}; duplicate (location,date): {dup_loc_date}\")\n",
        "\n",
        "if dup_full > 0:\n",
        "    df = df.drop_duplicates().reset_index(drop=True)\n",
        "\n",
        "# When duplicate (location,date) exist, keep the row with highest info (e.g. max total_cases) or last reported\n",
        "if dup_loc_date > 0:\n",
        "    # strategy: group and keep row with max total_cases if exists, else last\n",
        "    def resolve_group(g):\n",
        "        if 'total_cases' in g.columns and g['total_cases'].notna().any():\n",
        "            return g.loc[g['total_cases'].idxmax()]\n",
        "        else:\n",
        "            return g.iloc[-1]\n",
        "    df = df.groupby(['location','date'], as_index=False).apply(lambda g: resolve_group(g)).reset_index(drop=True)\n"
      ],
      "metadata": {
        "colab": {
          "base_uri": "https://localhost:8080/"
        },
        "id": "UIUeXC1Wdp6N",
        "outputId": "480a737b-f68f-4594-9d9b-3c12df70863a"
      },
      "execution_count": null,
      "outputs": [
        {
          "output_type": "stream",
          "name": "stdout",
          "text": [
            "Exact duplicate rows: 0; duplicate (location,date): 0\n"
          ]
        }
      ]
    },
    {
      "cell_type": "code",
      "source": [
        "def ensure_consistency(group):\n",
        "    group = group.sort_values('date').copy()\n",
        "    # If total_cases exists:\n",
        "    if 'total_cases' in group.columns and group['total_cases'].notna().any():\n",
        "        # fill forward small gaps in total if necessary? better to not fill automatically\n",
        "        # Enforce non-decreasing: if decreases, take cumulative max\n",
        "        group['total_cases_fixed'] = group['total_cases'].cummax()\n",
        "        # compute new_cases_from_total\n",
        "        group['new_cases_from_total'] = group['total_cases_fixed'].diff().fillna(group['total_cases_fixed'])\n",
        "        # if new_cases is missing or negative, use new_cases_from_total\n",
        "        if 'new_cases' in group.columns:\n",
        "            # flag where we replace\n",
        "            group['new_cases_was_missing_or_negative'] = group['new_cases'].isna() | (group['new_cases'] < 0)\n",
        "            group.loc[group['new_cases_was_missing_or_negative'], 'new_cases'] = group.loc[group['new_cases_was_missing_or_negative'], 'new_cases_from_total']\n",
        "        else:\n",
        "            group['new_cases'] = group['new_cases_from_total']\n",
        "        # If total_cases has NaN but new_cases present, rebuild cumulative\n",
        "    elif 'new_cases' in group.columns and group['new_cases'].notna().any():\n",
        "        # reconstruct total\n",
        "        group['total_cases_fixed'] = group['new_cases'].cumsum()\n",
        "    else:\n",
        "        group['total_cases_fixed'] = np.nan\n",
        "        group['new_cases'] = group.get('new_cases', np.nan)\n",
        "    return group\n",
        "\n",
        "# Apply per location\n",
        "if 'location' in df.columns:\n",
        "    df = df.groupby('location', group_keys=False).apply(ensure_consistency).reset_index(drop=True)\n",
        "else:\n",
        "    df = ensure_consistency(df)\n",
        "\n",
        "# Replace total_cases with fixed if exists\n",
        "if 'total_cases_fixed' in df.columns:\n",
        "    df['total_cases'] = df['total_cases_fixed']\n",
        "    df = df.drop(columns=['total_cases_fixed','new_cases_from_total'], errors='ignore')"
      ],
      "metadata": {
        "colab": {
          "base_uri": "https://localhost:8080/"
        },
        "id": "Bs6XpLlEdw5G",
        "outputId": "63dc0754-9a87-4488-f99b-a6a4d9f0b95b"
      },
      "execution_count": null,
      "outputs": [
        {
          "output_type": "stream",
          "name": "stderr",
          "text": [
            "/tmp/ipython-input-4222069874.py:28: DeprecationWarning: DataFrameGroupBy.apply operated on the grouping columns. This behavior is deprecated, and in a future version of pandas the grouping columns will be excluded from the operation. Either pass `include_groups=False` to exclude the groupings or explicitly select the grouping columns after groupby to silence this warning.\n",
            "  df = df.groupby('location', group_keys=False).apply(ensure_consistency).reset_index(drop=True)\n"
          ]
        }
      ]
    },
    {
      "cell_type": "code",
      "source": [
        "df['flag_missing_cases'] = df[['new_cases','total_cases']].isnull().all(axis=1)\n",
        "df['flag_negative_new'] = df['new_cases'] < 0\n",
        "# Spike detection: local z-score per location on new_cases\n",
        "def flag_spikes(group, z_thresh=4.0):\n",
        "    vals = group['new_cases'].fillna(0)\n",
        "    mean = vals.mean()\n",
        "    std = vals.std(ddof=0) if vals.std(ddof=0)>0 else 0.0\n",
        "    if std == 0:\n",
        "        return pd.Series([False]*len(vals), index=group.index)\n",
        "    z = (vals - mean) / std\n",
        "    return (z.abs() > z_thresh)\n",
        "if 'location' in df.columns:\n",
        "    df['flag_spike'] = df.groupby('location', group_keys=False).apply(lambda g: flag_spikes(g)).astype(bool)\n",
        "else:\n",
        "    df['flag_spike'] = flag_spikes(df)\n"
      ],
      "metadata": {
        "colab": {
          "base_uri": "https://localhost:8080/"
        },
        "id": "ds-CxoYTd2dq",
        "outputId": "413589c7-e4ff-4e80-a28f-3797e90d4992"
      },
      "execution_count": null,
      "outputs": [
        {
          "output_type": "stream",
          "name": "stderr",
          "text": [
            "/tmp/ipython-input-1929468313.py:13: DeprecationWarning: DataFrameGroupBy.apply operated on the grouping columns. This behavior is deprecated, and in a future version of pandas the grouping columns will be excluded from the operation. Either pass `include_groups=False` to exclude the groupings or explicitly select the grouping columns after groupby to silence this warning.\n",
            "  df['flag_spike'] = df.groupby('location', group_keys=False).apply(lambda g: flag_spikes(g)).astype(bool)\n"
          ]
        }
      ]
    },
    {
      "cell_type": "code",
      "source": [
        "num_fill_cols = []\n",
        "for c in ['new_cases','new_deaths','new_recovered']:\n",
        "    if c in df.columns:\n",
        "        num_fill_cols.append(c)\n",
        "\n",
        "# Count missing before impute\n",
        "print(\"Missing before impute (selected):\")\n",
        "print(df[num_fill_cols].isnull().sum())\n",
        "\n",
        "# Impute strategy: median per location if enough data, else global median\n",
        "def impute_by_group(series):\n",
        "    # accepts a Series per group\n",
        "    return series.fillna(series.median())\n",
        "\n",
        "df_imputed = df.copy()\n",
        "for c in num_fill_cols:\n",
        "    if 'location' in df_imputed.columns:\n",
        "        # apply per-location median; fallback to global median\n",
        "        df_imputed[c] = df_imputed.groupby('location')[c].transform(lambda s: s.fillna(s.median()))\n",
        "        global_med = df_imputed[c].median()\n",
        "        df_imputed[c] = df_imputed[c].fillna(global_med)\n",
        "    else:\n",
        "        df_imputed[c] = df_imputed[c].fillna(df_imputed[c].median())\n",
        "\n",
        "\n",
        "print(\"Missing after impute (selected):\")\n",
        "print(df_imputed[num_fill_cols].isnull().sum())"
      ],
      "metadata": {
        "colab": {
          "base_uri": "https://localhost:8080/"
        },
        "id": "4pJPzIPneD44",
        "outputId": "40469706-4edf-41a0-c9ea-96f3d8c525b6"
      },
      "execution_count": null,
      "outputs": [
        {
          "output_type": "stream",
          "name": "stdout",
          "text": [
            "Missing before impute (selected):\n",
            "new_cases        0\n",
            "new_deaths       0\n",
            "new_recovered    0\n",
            "dtype: int64\n",
            "Missing after impute (selected):\n",
            "new_cases        0\n",
            "new_deaths       0\n",
            "new_recovered    0\n",
            "dtype: int64\n"
          ]
        }
      ]
    },
    {
      "cell_type": "code",
      "source": [
        "df_imputed['new_cases'] = df_imputed['new_cases'].clip(lower=0)\n",
        "# Recompute totals from new_cases to ensure consistency if desired\n",
        "if 'new_cases' in df_imputed.columns:\n",
        "    df_imputed = df_imputed.sort_values(['location','date']).reset_index(drop=True)\n",
        "    df_imputed['total_cases_recalc'] = df_imputed.groupby('location')['new_cases'].cumsum()\n",
        "    # Compare total_cases vs recalculated total; if large mismatch flag\n",
        "    if 'total_cases' in df_imputed.columns:\n",
        "        df_imputed['flag_total_mismatch'] = (~df_imputed['total_cases'].isna()) & \\\n",
        "                                            ( (df_imputed['total_cases'] - df_imputed['total_cases_recalc']).abs() > (0.1 * df_imputed['total_cases_recalc'] + 1) )\n",
        "    else:\n",
        "        df_imputed['total_cases'] = df_imputed['total_cases_recalc']\n",
        "else:\n",
        "    df_imputed['total_cases_recalc'] = np.nan"
      ],
      "metadata": {
        "id": "DPU0lBT0eQ5a"
      },
      "execution_count": null,
      "outputs": []
    },
    {
      "cell_type": "code",
      "source": [
        "sample_locations = df_imputed['location'].value_counts().index[:3].tolist()\n",
        "for loc in sample_locations:\n",
        "    sub = df_imputed[df_imputed['location']==loc]\n",
        "    plt.figure(figsize=(10,3))\n",
        "    plt.plot(sub['date'], sub['new_cases'], marker='.', linewidth=1)\n",
        "    plt.title(f\"New Cases over time - {loc}\")\n",
        "    plt.xlabel('Date')\n",
        "    plt.ylabel('New Cases')\n",
        "    plt.tight_layout()\n",
        "    plt.show()"
      ],
      "metadata": {
        "colab": {
          "base_uri": "https://localhost:8080/",
          "height": 887
        },
        "id": "02ToxU6zeh_f",
        "outputId": "ebd3829c-2c0e-419a-fa99-efe5bd770676"
      },
      "execution_count": null,
      "outputs": [
        {
          "output_type": "display_data",
          "data": {
            "text/plain": [
              "<Figure size 1000x300 with 1 Axes>"
            ],
            "image/png": "[encoded data removed]"
          },
          "metadata": {}
        },
        {
          "output_type": "display_data",
          "data": {
            "text/plain": [
              "<Figure size 1000x300 with 1 Axes>"
            ],
            "image/png": "[encoded data removed]"
          },
          "metadata": {}
        },
        {
          "output_type": "display_data",
          "data": {
            "text/plain": [
              "<Figure size 1000x300 with 1 Axes>"
            ],
            "image/png": "[encoded data removed]"
          },
          "metadata": {}
        }
      ]
    },
    {
      "cell_type": "markdown",
      "source": [
        "12. Simpan file bersih & unduh"
      ],
      "metadata": {
        "id": "wSSwrLBuzX0j"
      }
    },
    {
      "cell_type": "code",
      "source": [
        "out_name = \"covid19_indonesia_cleaned.csv\"\n",
        "df_out = df_imputed.copy()\n",
        "# Reorder columns to put flags at end\n",
        "flag_cols = [c for c in df_out.columns if c.startswith('flag_') or c.endswith('_was_missing') or c.endswith('_outlier')]\n",
        "cols_order = [c for c in df_out.columns if c not in flag_cols] + flag_cols\n",
        "df_out = df_out[cols_order]\n",
        "\n",
        "df_out.to_csv(out_name, index=False)\n",
        "print(\"Saved cleaned dataset to:\", out_name)\n",
        "files.download(out_name)"
      ],
      "metadata": {
        "colab": {
          "base_uri": "https://localhost:8080/",
          "height": 34
        },
        "id": "7lrEZeAHeoUY",
        "outputId": "6c22b64b-5383-4344-9688-e9ab8c9a861a"
      },
      "execution_count": null,
      "outputs": [
        {
          "output_type": "stream",
          "name": "stdout",
          "text": [
            "Saved cleaned dataset to: covid19_indonesia_cleaned.csv\n"
          ]
        },
        {
          "output_type": "display_data",
          "data": {
            "text/plain": [
              "<IPython.core.display.Javascript object>"
            ],
            "application/javascript": [
              "\n",
              "    async function download(id, filename, size) {\n",
              "      if (!google.colab.kernel.accessAllowed) {\n",
              "        return;\n",
              "      }\n",
              "      const div = document.createElement('div');\n",
              "      const label = document.createElement('label');\n",
              "      label.textContent = `Downloading \"${filename}\": `;\n",
              "      div.appendChild(label);\n",
              "      const progress = document.createElement('progress');\n",
              "      progress.max = size;\n",
              "      div.appendChild(progress);\n",
              "      document.body.appendChild(div);\n",
              "\n",
              "      const buffers = [];\n",
              "      let downloaded = 0;\n",
              "\n",
              "      const channel = await google.colab.kernel.comms.open(id);\n",
              "      // Send a message to notify the kernel that we're ready.\n",
              "      channel.send({})\n",
              "\n",
              "      for await (const message of channel.messages) {\n",
              "        // Send a message to notify the kernel that we're ready.\n",
              "        channel.send({})\n",
              "        if (message.buffers) {\n",
              "          for (const buffer of message.buffers) {\n",
              "            buffers.push(buffer);\n",
              "            downloaded += buffer.byteLength;\n",
              "            progress.value = downloaded;\n",
              "          }\n",
              "        }\n",
              "      }\n",
              "      const blob = new Blob(buffers, {type: 'application/binary'});\n",
              "      const a = document.createElement('a');\n",
              "      a.href = window.URL.createObjectURL(blob);\n",
              "      a.download = filename;\n",
              "      div.appendChild(a);\n",
              "      a.click();\n",
              "      div.remove();\n",
              "    }\n",
              "  "
            ]
          },
          "metadata": {}
        },
        {
          "output_type": "display_data",
          "data": {
            "text/plain": [
              "<IPython.core.display.Javascript object>"
            ],
            "application/javascript": [
              "download(\"download_82135ece-bca5-40dc-8944-c485d8cb5780\", \"covid19_indonesia_cleaned.csv\", 8750749)"
            ]
          },
          "metadata": {}
        }
      ]
    }
  ]
}